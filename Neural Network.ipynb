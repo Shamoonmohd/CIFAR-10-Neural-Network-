{
  "nbformat": 4,
  "nbformat_minor": 0,
  "metadata": {
    "colab": {
      "name": "Assignment-1Q3.ipynb",
      "provenance": [],
      "collapsed_sections": []
    },
    "kernelspec": {
      "name": "python3",
      "display_name": "Python 3"
    },
    "language_info": {
      "name": "python"
    },
    "accelerator": "GPU",
    "widgets": {
      "application/vnd.jupyter.widget-state+json": {
        "dd997fbf464e4fafb302c5a0de71b805": {
          "model_module": "@jupyter-widgets/controls",
          "model_name": "HBoxModel",
          "model_module_version": "1.5.0",
          "state": {
            "_view_name": "HBoxView",
            "_dom_classes": [],
            "_model_name": "HBoxModel",
            "_view_module": "@jupyter-widgets/controls",
            "_model_module_version": "1.5.0",
            "_view_count": null,
            "_view_module_version": "1.5.0",
            "box_style": "",
            "layout": "IPY_MODEL_89d79eeb018441d681e311bcf39d37c9",
            "_model_module": "@jupyter-widgets/controls",
            "children": [
              "IPY_MODEL_a76162605a4e4a29b650ca76bd0e1317",
              "IPY_MODEL_f2c3fdb788c54132a847d56e84cfc118",
              "IPY_MODEL_e72b52a56df64e2497f63d5f188b39a8"
            ]
          }
        },
        "89d79eeb018441d681e311bcf39d37c9": {
          "model_module": "@jupyter-widgets/base",
          "model_name": "LayoutModel",
          "model_module_version": "1.2.0",
          "state": {
            "_view_name": "LayoutView",
            "grid_template_rows": null,
            "right": null,
            "justify_content": null,
            "_view_module": "@jupyter-widgets/base",
            "overflow": null,
            "_model_module_version": "1.2.0",
            "_view_count": null,
            "flex_flow": null,
            "width": null,
            "min_width": null,
            "border": null,
            "align_items": null,
            "bottom": null,
            "_model_module": "@jupyter-widgets/base",
            "top": null,
            "grid_column": null,
            "overflow_y": null,
            "overflow_x": null,
            "grid_auto_flow": null,
            "grid_area": null,
            "grid_template_columns": null,
            "flex": null,
            "_model_name": "LayoutModel",
            "justify_items": null,
            "grid_row": null,
            "max_height": null,
            "align_content": null,
            "visibility": null,
            "align_self": null,
            "height": null,
            "min_height": null,
            "padding": null,
            "grid_auto_rows": null,
            "grid_gap": null,
            "max_width": null,
            "order": null,
            "_view_module_version": "1.2.0",
            "grid_template_areas": null,
            "object_position": null,
            "object_fit": null,
            "grid_auto_columns": null,
            "margin": null,
            "display": null,
            "left": null
          }
        },
        "a76162605a4e4a29b650ca76bd0e1317": {
          "model_module": "@jupyter-widgets/controls",
          "model_name": "HTMLModel",
          "model_module_version": "1.5.0",
          "state": {
            "_view_name": "HTMLView",
            "style": "IPY_MODEL_c128abe8605246dabd2c0819735b9538",
            "_dom_classes": [],
            "description": "",
            "_model_name": "HTMLModel",
            "placeholder": "​",
            "_view_module": "@jupyter-widgets/controls",
            "_model_module_version": "1.5.0",
            "value": "",
            "_view_count": null,
            "_view_module_version": "1.5.0",
            "description_tooltip": null,
            "_model_module": "@jupyter-widgets/controls",
            "layout": "IPY_MODEL_8b5aac638ae84fa7b91169920d553c28"
          }
        },
        "f2c3fdb788c54132a847d56e84cfc118": {
          "model_module": "@jupyter-widgets/controls",
          "model_name": "FloatProgressModel",
          "model_module_version": "1.5.0",
          "state": {
            "_view_name": "ProgressView",
            "style": "IPY_MODEL_ea5e655148ed493ba28489f438231466",
            "_dom_classes": [],
            "description": "",
            "_model_name": "FloatProgressModel",
            "bar_style": "success",
            "max": 170498071,
            "_view_module": "@jupyter-widgets/controls",
            "_model_module_version": "1.5.0",
            "value": 170498071,
            "_view_count": null,
            "_view_module_version": "1.5.0",
            "orientation": "horizontal",
            "min": 0,
            "description_tooltip": null,
            "_model_module": "@jupyter-widgets/controls",
            "layout": "IPY_MODEL_0cce5f4cd5a64e86bfbaa2cee7d94412"
          }
        },
        "e72b52a56df64e2497f63d5f188b39a8": {
          "model_module": "@jupyter-widgets/controls",
          "model_name": "HTMLModel",
          "model_module_version": "1.5.0",
          "state": {
            "_view_name": "HTMLView",
            "style": "IPY_MODEL_198208408fff4eccb3d7daf1a6008f0d",
            "_dom_classes": [],
            "description": "",
            "_model_name": "HTMLModel",
            "placeholder": "​",
            "_view_module": "@jupyter-widgets/controls",
            "_model_module_version": "1.5.0",
            "value": " 170499072/? [00:05&lt;00:00, 31481367.11it/s]",
            "_view_count": null,
            "_view_module_version": "1.5.0",
            "description_tooltip": null,
            "_model_module": "@jupyter-widgets/controls",
            "layout": "IPY_MODEL_dea591dfb9d742a4b9dc3cc47f5a0173"
          }
        },
        "c128abe8605246dabd2c0819735b9538": {
          "model_module": "@jupyter-widgets/controls",
          "model_name": "DescriptionStyleModel",
          "model_module_version": "1.5.0",
          "state": {
            "_view_name": "StyleView",
            "_model_name": "DescriptionStyleModel",
            "description_width": "",
            "_view_module": "@jupyter-widgets/base",
            "_model_module_version": "1.5.0",
            "_view_count": null,
            "_view_module_version": "1.2.0",
            "_model_module": "@jupyter-widgets/controls"
          }
        },
        "8b5aac638ae84fa7b91169920d553c28": {
          "model_module": "@jupyter-widgets/base",
          "model_name": "LayoutModel",
          "model_module_version": "1.2.0",
          "state": {
            "_view_name": "LayoutView",
            "grid_template_rows": null,
            "right": null,
            "justify_content": null,
            "_view_module": "@jupyter-widgets/base",
            "overflow": null,
            "_model_module_version": "1.2.0",
            "_view_count": null,
            "flex_flow": null,
            "width": null,
            "min_width": null,
            "border": null,
            "align_items": null,
            "bottom": null,
            "_model_module": "@jupyter-widgets/base",
            "top": null,
            "grid_column": null,
            "overflow_y": null,
            "overflow_x": null,
            "grid_auto_flow": null,
            "grid_area": null,
            "grid_template_columns": null,
            "flex": null,
            "_model_name": "LayoutModel",
            "justify_items": null,
            "grid_row": null,
            "max_height": null,
            "align_content": null,
            "visibility": null,
            "align_self": null,
            "height": null,
            "min_height": null,
            "padding": null,
            "grid_auto_rows": null,
            "grid_gap": null,
            "max_width": null,
            "order": null,
            "_view_module_version": "1.2.0",
            "grid_template_areas": null,
            "object_position": null,
            "object_fit": null,
            "grid_auto_columns": null,
            "margin": null,
            "display": null,
            "left": null
          }
        },
        "ea5e655148ed493ba28489f438231466": {
          "model_module": "@jupyter-widgets/controls",
          "model_name": "ProgressStyleModel",
          "model_module_version": "1.5.0",
          "state": {
            "_view_name": "StyleView",
            "_model_name": "ProgressStyleModel",
            "description_width": "",
            "_view_module": "@jupyter-widgets/base",
            "_model_module_version": "1.5.0",
            "_view_count": null,
            "_view_module_version": "1.2.0",
            "bar_color": null,
            "_model_module": "@jupyter-widgets/controls"
          }
        },
        "0cce5f4cd5a64e86bfbaa2cee7d94412": {
          "model_module": "@jupyter-widgets/base",
          "model_name": "LayoutModel",
          "model_module_version": "1.2.0",
          "state": {
            "_view_name": "LayoutView",
            "grid_template_rows": null,
            "right": null,
            "justify_content": null,
            "_view_module": "@jupyter-widgets/base",
            "overflow": null,
            "_model_module_version": "1.2.0",
            "_view_count": null,
            "flex_flow": null,
            "width": null,
            "min_width": null,
            "border": null,
            "align_items": null,
            "bottom": null,
            "_model_module": "@jupyter-widgets/base",
            "top": null,
            "grid_column": null,
            "overflow_y": null,
            "overflow_x": null,
            "grid_auto_flow": null,
            "grid_area": null,
            "grid_template_columns": null,
            "flex": null,
            "_model_name": "LayoutModel",
            "justify_items": null,
            "grid_row": null,
            "max_height": null,
            "align_content": null,
            "visibility": null,
            "align_self": null,
            "height": null,
            "min_height": null,
            "padding": null,
            "grid_auto_rows": null,
            "grid_gap": null,
            "max_width": null,
            "order": null,
            "_view_module_version": "1.2.0",
            "grid_template_areas": null,
            "object_position": null,
            "object_fit": null,
            "grid_auto_columns": null,
            "margin": null,
            "display": null,
            "left": null
          }
        },
        "198208408fff4eccb3d7daf1a6008f0d": {
          "model_module": "@jupyter-widgets/controls",
          "model_name": "DescriptionStyleModel",
          "model_module_version": "1.5.0",
          "state": {
            "_view_name": "StyleView",
            "_model_name": "DescriptionStyleModel",
            "description_width": "",
            "_view_module": "@jupyter-widgets/base",
            "_model_module_version": "1.5.0",
            "_view_count": null,
            "_view_module_version": "1.2.0",
            "_model_module": "@jupyter-widgets/controls"
          }
        },
        "dea591dfb9d742a4b9dc3cc47f5a0173": {
          "model_module": "@jupyter-widgets/base",
          "model_name": "LayoutModel",
          "model_module_version": "1.2.0",
          "state": {
            "_view_name": "LayoutView",
            "grid_template_rows": null,
            "right": null,
            "justify_content": null,
            "_view_module": "@jupyter-widgets/base",
            "overflow": null,
            "_model_module_version": "1.2.0",
            "_view_count": null,
            "flex_flow": null,
            "width": null,
            "min_width": null,
            "border": null,
            "align_items": null,
            "bottom": null,
            "_model_module": "@jupyter-widgets/base",
            "top": null,
            "grid_column": null,
            "overflow_y": null,
            "overflow_x": null,
            "grid_auto_flow": null,
            "grid_area": null,
            "grid_template_columns": null,
            "flex": null,
            "_model_name": "LayoutModel",
            "justify_items": null,
            "grid_row": null,
            "max_height": null,
            "align_content": null,
            "visibility": null,
            "align_self": null,
            "height": null,
            "min_height": null,
            "padding": null,
            "grid_auto_rows": null,
            "grid_gap": null,
            "max_width": null,
            "order": null,
            "_view_module_version": "1.2.0",
            "grid_template_areas": null,
            "object_position": null,
            "object_fit": null,
            "grid_auto_columns": null,
            "margin": null,
            "display": null,
            "left": null
          }
        }
      }
    }
  },
  "cells": [
    {
      "cell_type": "markdown",
      "source": [
        "**Importing** **Libraries** "
      ],
      "metadata": {
        "id": "xYejSBVr7ajU"
      }
    },
    {
      "cell_type": "code",
      "source": [
        "import numpy as np\n",
        "import torch\n",
        "import torchvision"
      ],
      "metadata": {
        "id": "totpAlJQ7mpH"
      },
      "execution_count": 1,
      "outputs": []
    },
    {
      "cell_type": "markdown",
      "source": [
        "###Import Dataset CIFAR-10"
      ],
      "metadata": {
        "id": "IxT4WOOk7pH1"
      }
    },
    {
      "cell_type": "code",
      "source": [
        "trainingdata = torchvision.datasets.CIFAR10(root='./data', train=True, download=True,\n",
        "                       transform=torchvision.transforms.Compose([\n",
        "                           torchvision.transforms.Grayscale(num_output_channels=1),torchvision.transforms.ToTensor()\n",
        "                       ]))\n",
        "\n",
        "testdata = torchvision.datasets.CIFAR10(root='./data', train=False, download=True,\n",
        "                       transform=torchvision.transforms.Compose([\n",
        "                           torchvision.transforms.Grayscale(num_output_channels=1),torchvision.transforms.ToTensor()\n",
        "                       ]))"
      ],
      "metadata": {
        "colab": {
          "base_uri": "https://localhost:8080/",
          "height": 102,
          "referenced_widgets": [
            "dd997fbf464e4fafb302c5a0de71b805",
            "89d79eeb018441d681e311bcf39d37c9",
            "a76162605a4e4a29b650ca76bd0e1317",
            "f2c3fdb788c54132a847d56e84cfc118",
            "e72b52a56df64e2497f63d5f188b39a8",
            "c128abe8605246dabd2c0819735b9538",
            "8b5aac638ae84fa7b91169920d553c28",
            "ea5e655148ed493ba28489f438231466",
            "0cce5f4cd5a64e86bfbaa2cee7d94412",
            "198208408fff4eccb3d7daf1a6008f0d",
            "dea591dfb9d742a4b9dc3cc47f5a0173"
          ]
        },
        "id": "0GgwLQtn7oAY",
        "outputId": "2f431e0e-6035-42eb-f89c-d95423721c90"
      },
      "execution_count": 2,
      "outputs": [
        {
          "output_type": "stream",
          "name": "stdout",
          "text": [
            "Downloading https://www.cs.toronto.edu/~kriz/cifar-10-python.tar.gz to ./data/cifar-10-python.tar.gz\n"
          ]
        },
        {
          "output_type": "display_data",
          "data": {
            "application/vnd.jupyter.widget-view+json": {
              "model_id": "dd997fbf464e4fafb302c5a0de71b805",
              "version_minor": 0,
              "version_major": 2
            },
            "text/plain": [
              "  0%|          | 0/170498071 [00:00<?, ?it/s]"
            ]
          },
          "metadata": {}
        },
        {
          "output_type": "stream",
          "name": "stdout",
          "text": [
            "Extracting ./data/cifar-10-python.tar.gz to ./data\n",
            "Files already downloaded and verified\n"
          ]
        }
      ]
    },
    {
      "cell_type": "code",
      "source": [
        "print(len(trainingdata))\n",
        "print(len(testdata))"
      ],
      "metadata": {
        "colab": {
          "base_uri": "https://localhost:8080/"
        },
        "id": "2w8bnjZm9MPF",
        "outputId": "7b303dff-c4be-4dd5-963f-ba0031af04de"
      },
      "execution_count": 3,
      "outputs": [
        {
          "output_type": "stream",
          "name": "stdout",
          "text": [
            "50000\n",
            "10000\n"
          ]
        }
      ]
    },
    {
      "cell_type": "code",
      "source": [
        "for data in trainingdata:\n",
        "  print(data)\n",
        "  break"
      ],
      "metadata": {
        "colab": {
          "base_uri": "https://localhost:8080/"
        },
        "id": "DUBaaml79zDH",
        "outputId": "eede870c-02c6-4423-f35f-02d58fee485d"
      },
      "execution_count": 4,
      "outputs": [
        {
          "output_type": "stream",
          "name": "stdout",
          "text": [
            "(tensor([[[0.2392, 0.1765, 0.1882,  ..., 0.5373, 0.5098, 0.5059],\n",
            "         [0.0745, 0.0000, 0.0392,  ..., 0.3725, 0.3529, 0.3686],\n",
            "         [0.0941, 0.0353, 0.1216,  ..., 0.3529, 0.3569, 0.3137],\n",
            "         ...,\n",
            "         [0.6784, 0.6039, 0.6157,  ..., 0.5255, 0.1412, 0.1490],\n",
            "         [0.5725, 0.5059, 0.5647,  ..., 0.6000, 0.2706, 0.2353],\n",
            "         [0.5922, 0.5373, 0.5765,  ..., 0.7412, 0.4863, 0.3882]]]), 6)\n"
          ]
        }
      ]
    },
    {
      "cell_type": "code",
      "source": [
        "data[0][0].shape ## shape of matrix of single image"
      ],
      "metadata": {
        "colab": {
          "base_uri": "https://localhost:8080/"
        },
        "id": "Y6WRBBxA-AtW",
        "outputId": "75ebb873-f4f6-4ff5-c011-bec9be07e0bd"
      },
      "execution_count": 5,
      "outputs": [
        {
          "output_type": "execute_result",
          "data": {
            "text/plain": [
              "torch.Size([32, 32])"
            ]
          },
          "metadata": {},
          "execution_count": 5
        }
      ]
    },
    {
      "cell_type": "code",
      "source": [
        "image, label = trainingdata[0]\n",
        "print(image.shape, label)"
      ],
      "metadata": {
        "colab": {
          "base_uri": "https://localhost:8080/"
        },
        "id": "-hELFqwb-Gdq",
        "outputId": "012cefe9-377d-4f42-8bd4-07fe2555c75f"
      },
      "execution_count": 6,
      "outputs": [
        {
          "output_type": "stream",
          "name": "stdout",
          "text": [
            "torch.Size([1, 32, 32]) 6\n"
          ]
        }
      ]
    },
    {
      "cell_type": "code",
      "source": [
        "trainingdata[0][1]"
      ],
      "metadata": {
        "colab": {
          "base_uri": "https://localhost:8080/"
        },
        "id": "QUhkiXqY-fDQ",
        "outputId": "41d446a2-80df-4669-dfe9-cd8eff5a2664"
      },
      "execution_count": 7,
      "outputs": [
        {
          "output_type": "execute_result",
          "data": {
            "text/plain": [
              "6"
            ]
          },
          "metadata": {},
          "execution_count": 7
        }
      ]
    },
    {
      "cell_type": "code",
      "source": [
        "import matplotlib.pyplot as plt\n",
        "%matplotlib inline\n",
        "plt.imshow(image.squeeze().numpy())\n",
        "plt.show()"
      ],
      "metadata": {
        "colab": {
          "base_uri": "https://localhost:8080/",
          "height": 266
        },
        "id": "P46c6FK0-ntl",
        "outputId": "eccfeebc-8f1b-4300-caee-b5e525199b76"
      },
      "execution_count": 8,
      "outputs": [
        {
          "output_type": "display_data",
          "data": {
            "image/png": "[encoded data removed]",
            "text/plain": [
              "<Figure size 432x288 with 1 Axes>"
            ]
          },
          "metadata": {
            "needs_background": "light"
          }
        }
      ]
    },
    {
      "cell_type": "code",
      "source": [
        "trainDataLoader = torch.utils.data.DataLoader(trainingdata,batch_size=64,shuffle=True)\n",
        "testDataLoader = torch.utils.data.DataLoader(testdata,batch_size=64,shuffle=False)"
      ],
      "metadata": {
        "id": "S9cM3aUZ-6aE"
      },
      "execution_count": 9,
      "outputs": []
    },
    {
      "cell_type": "code",
      "source": [
        "for data in trainDataLoader:\n",
        "  print(data)\n",
        "  break"
      ],
      "metadata": {
        "colab": {
          "base_uri": "https://localhost:8080/"
        },
        "id": "ROSqPi22AWIb",
        "outputId": "8c614c47-85a9-460b-c807-e01f7c4cb57b"
      },
      "execution_count": 10,
      "outputs": [
        {
          "output_type": "stream",
          "name": "stdout",
          "text": [
            "[tensor([[[[0.4118, 0.4353, 0.4471,  ..., 0.4745, 0.4784, 0.4706],\n",
            "          [0.5098, 0.5922, 0.5961,  ..., 0.6667, 0.6902, 0.6549],\n",
            "          [0.5176, 0.5961, 0.6000,  ..., 0.6784, 0.6980, 0.6588],\n",
            "          ...,\n",
            "          [0.4706, 0.5333, 0.5569,  ..., 0.6275, 0.6118, 0.6275],\n",
            "          [0.4627, 0.5294, 0.5529,  ..., 0.6745, 0.6667, 0.6235],\n",
            "          [0.3804, 0.3922, 0.4039,  ..., 0.4627, 0.4549, 0.4314]]],\n",
            "\n",
            "\n",
            "        [[[0.2039, 0.2549, 0.2314,  ..., 0.3725, 0.3490, 0.3412],\n",
            "          [0.2745, 0.2980, 0.2667,  ..., 0.4824, 0.4157, 0.5059],\n",
            "          [0.3373, 0.3098, 0.2549,  ..., 0.3569, 0.3373, 0.4235],\n",
            "          ...,\n",
            "          [0.4275, 0.4039, 0.3490,  ..., 0.5882, 0.6392, 0.6471],\n",
            "          [0.3333, 0.3490, 0.3098,  ..., 0.6196, 0.6392, 0.6314],\n",
            "          [0.2941, 0.3294, 0.3961,  ..., 0.6314, 0.5765, 0.6235]]],\n",
            "\n",
            "\n",
            "        [[[0.1098, 0.0784, 0.0824,  ..., 0.0157, 0.0196, 0.0314],\n",
            "          [0.1020, 0.0941, 0.0941,  ..., 0.0157, 0.0314, 0.0353],\n",
            "          [0.0902, 0.1020, 0.1098,  ..., 0.0078, 0.0196, 0.0118],\n",
            "          ...,\n",
            "          [0.0078, 0.0078, 0.0078,  ..., 0.0353, 0.0118, 0.0157],\n",
            "          [0.0078, 0.0078, 0.0078,  ..., 0.0510, 0.0275, 0.0431],\n",
            "          [0.0078, 0.0078, 0.0078,  ..., 0.0392, 0.0196, 0.0235]]],\n",
            "\n",
            "\n",
            "        ...,\n",
            "\n",
            "\n",
            "        [[[0.4000, 0.3961, 0.3882,  ..., 0.3020, 0.3020, 0.3020],\n",
            "          [0.4275, 0.4196, 0.4157,  ..., 0.3098, 0.3098, 0.3137],\n",
            "          [0.4471, 0.4392, 0.4314,  ..., 0.3216, 0.3216, 0.3216],\n",
            "          ...,\n",
            "          [0.2353, 0.2314, 0.2314,  ..., 0.2196, 0.2196, 0.2157],\n",
            "          [0.2314, 0.2275, 0.2275,  ..., 0.2157, 0.2157, 0.2196],\n",
            "          [0.2314, 0.2275, 0.2275,  ..., 0.2157, 0.2157, 0.2157]]],\n",
            "\n",
            "\n",
            "        [[[0.6667, 0.6392, 0.6431,  ..., 0.7216, 0.6431, 0.6275],\n",
            "          [0.7137, 0.6431, 0.6510,  ..., 0.7647, 0.6667, 0.6275],\n",
            "          [0.7490, 0.6549, 0.6471,  ..., 0.7961, 0.6431, 0.6275],\n",
            "          ...,\n",
            "          [0.6980, 0.6902, 0.6941,  ..., 0.6863, 0.6824, 0.6824],\n",
            "          [0.7059, 0.6980, 0.7020,  ..., 0.6941, 0.6902, 0.6863],\n",
            "          [0.6941, 0.6902, 0.6941,  ..., 0.6784, 0.6784, 0.6784]]],\n",
            "\n",
            "\n",
            "        [[[0.4275, 0.3765, 0.3882,  ..., 0.7176, 0.7137, 0.7059],\n",
            "          [0.3608, 0.3176, 0.3255,  ..., 0.7176, 0.7137, 0.7098],\n",
            "          [0.2431, 0.2471, 0.2745,  ..., 0.7176, 0.7137, 0.7098],\n",
            "          ...,\n",
            "          [0.5294, 0.5686, 0.6275,  ..., 0.7490, 0.6314, 0.7647],\n",
            "          [0.1725, 0.1882, 0.2353,  ..., 0.7647, 0.7569, 0.7765],\n",
            "          [0.3373, 0.3098, 0.3373,  ..., 0.6392, 0.6980, 0.6549]]]]), tensor([2, 7, 1, 5, 6, 5, 5, 4, 0, 4, 6, 6, 4, 2, 2, 2, 6, 5, 9, 3, 0, 5, 8, 8,\n",
            "        7, 3, 2, 4, 0, 7, 5, 7, 4, 1, 1, 1, 0, 2, 4, 4, 5, 6, 4, 7, 1, 0, 1, 5,\n",
            "        1, 1, 1, 9, 3, 3, 2, 3, 6, 0, 0, 8, 7, 8, 2, 5])]\n"
          ]
        }
      ]
    },
    {
      "cell_type": "code",
      "source": [
        "data[0][1].shape"
      ],
      "metadata": {
        "colab": {
          "base_uri": "https://localhost:8080/"
        },
        "id": "4J7PueBHA3U0",
        "outputId": "01fa61a4-eb23-4cb7-afc3-ffef89ff9616"
      },
      "execution_count": 11,
      "outputs": [
        {
          "output_type": "execute_result",
          "data": {
            "text/plain": [
              "torch.Size([1, 32, 32])"
            ]
          },
          "metadata": {},
          "execution_count": 11
        }
      ]
    },
    {
      "cell_type": "code",
      "source": [
        "data[1][0].shape\n",
        "\n"
      ],
      "metadata": {
        "colab": {
          "base_uri": "https://localhost:8080/"
        },
        "id": "QRh9gSS5A5kt",
        "outputId": "f5b5870b-1bff-4e34-eb5f-72e365b2f42b"
      },
      "execution_count": 12,
      "outputs": [
        {
          "output_type": "execute_result",
          "data": {
            "text/plain": [
              "torch.Size([])"
            ]
          },
          "metadata": {},
          "execution_count": 12
        }
      ]
    },
    {
      "cell_type": "code",
      "source": [
        "images, labels = iter(trainDataLoader).next()\n",
        "print(labels.size)\n",
        "plt.figure(figsize=(10,4))\n",
        "for index in np.arange(1,5):\n",
        "  plt.subplot(1,5, index+1)\n",
        "  plt.imshow(images[index].squeeze().numpy(), cmap=plt.cm.gray)"
      ],
      "metadata": {
        "colab": {
          "base_uri": "https://localhost:8080/",
          "height": 165
        },
        "id": "NyLOPqldA-YQ",
        "outputId": "26536378-0fd8-48ee-a000-8793bab3d3de"
      },
      "execution_count": 13,
      "outputs": [
        {
          "output_type": "stream",
          "name": "stdout",
          "text": [
            "<built-in method size of Tensor object at 0x7f1c67a1d710>\n"
          ]
        },
        {
          "output_type": "display_data",
          "data": {
            "image/png": "[encoded data removed]",
            "text/plain": [
              "<Figure size 720x288 with 4 Axes>"
            ]
          },
          "metadata": {
            "needs_background": "light"
          }
        }
      ]
    },
    {
      "cell_type": "markdown",
      "source": [
        "###Modelling Neural Network"
      ],
      "metadata": {
        "id": "l4g5XLXdCSlU"
      }
    },
    {
      "cell_type": "code",
      "source": [
        "import torch.nn as nn\n",
        "import torch.nn.functional as F"
      ],
      "metadata": {
        "id": "SQU1sekrCE_-"
      },
      "execution_count": 14,
      "outputs": []
    },
    {
      "cell_type": "code",
      "source": [
        "class Net(nn.Module):\n",
        "  def __init__(self):\n",
        "    super(Net, self).__init__()\n",
        "    self.linear1 = nn.Linear(32*32, 256)\n",
        "    self.linear2 = nn.Linear(256, 128)\n",
        "    self.linear3 = nn.Linear(128, 64)\n",
        "    self.linear4 = nn.Linear(64, 10)\n",
        "  \n",
        "  def forward(self, x):\n",
        "    x = x.view(-1,32*32)\n",
        "    x = F.relu(self.linear1(x))\n",
        "    x = F.relu(self.linear2(x))\n",
        "    x = F.relu(self.linear3(x))\n",
        "    x = self.linear4(x)\n",
        "    return F.log_softmax(x, dim=1)\n",
        "\n",
        "net = Net().cuda()\n",
        "Loss = torch.nn.MSELoss(size_average=None, reduce=None, reduction='mean')\n",
        "optimizer = torch.optim.SGD(net.parameters(), lr=0.01)\n",
        " \n",
        "\n"
      ],
      "metadata": {
        "id": "E-6bh8C6Co3f"
      },
      "execution_count": 17,
      "outputs": []
    },
    {
      "cell_type": "code",
      "source": [
        "train_loss_history = []\n",
        "test_loss_history = []\n",
        "train_acc_history = []\n",
        "test_acc_history = []\n",
        "\n",
        "for epoch in range(10):\n",
        "  train_loss = 0.0\n",
        "  test_loss = 0.0\n",
        "  for i, data in enumerate(trainDataLoader):\n",
        "    images, labels = data\n",
        "    images = images.cuda()\n",
        "    labels = labels.cuda()\n",
        "    y=torch.zeros(len(labels),10)\n",
        "    y[range(y.shape[0]), labels]=1\n",
        "    y=y.cuda()\n",
        "    optimizer.zero_grad()\n",
        "    predicted_output = net(images)\n",
        "    fit = Loss(predicted_output,y)\n",
        "    fit.backward()\n",
        "    optimizer.step()\n",
        "    train_loss += fit.item()\n",
        "  for i, data in enumerate(testDataLoader):\n",
        "    with torch.no_grad():\n",
        "      images, labels = data\n",
        "      images = images.cuda()\n",
        "      labels = labels.cuda()\n",
        "      y=torch.zeros(len(labels),10)\n",
        "      y[range(y.shape[0]), labels]=1\n",
        "      y=y.cuda()\n",
        "      predicted_output = net(images)\n",
        "      fit = Loss(predicted_output,y)\n",
        "      test_loss += fit.item()\n",
        "  train_loss = train_loss/len(trainDataLoader)\n",
        "  test_loss = test_loss/len(testDataLoader)\n",
        "  train_loss_history.append(train_loss)\n",
        "  test_loss_history.append(test_loss)\n",
        "  \n",
        "  correct_points_train = 0\n",
        "  correct_points_test = 0\n",
        "  correct_points_train +=(torch.eq(torch.max(predicted_output, 1)\n",
        "  [1],labels).sum()).data.cpu().numpy()\n",
        "  correct_points_test +=(torch.eq(torch.max(predicted_output, 1)\n",
        "  [1],labels).sum()).data.cpu().numpy()\n",
        "  train_acc = correct_points_train/len(trainDataLoader)\n",
        "  test_acc = correct_points_test/len(testDataLoader)\n",
        "  train_acc_history.append(train_acc)\n",
        "  test_acc_history.append(test_acc)\n",
        "  print('Epoch %s, Train loss %s, Test loss %s, Train Accuracy %s, Test Accuracy %s'%(epoch, train_loss, test_loss, train_acc, test_acc))"
      ],
      "metadata": {
        "colab": {
          "base_uri": "https://localhost:8080/"
        },
        "id": "1BwpYTCmE4Sk",
        "outputId": "d3b6ef32-9b5e-4f5f-99d9-43972bfe85d6"
      },
      "execution_count": 43,
      "outputs": [
        {
          "output_type": "stream",
          "name": "stdout",
          "text": [
            "Epoch 0, Train loss 5.859268964099153, Test loss 5.859365262802998, Train Accuracy 0.0025575447570332483, Test Accuracy 0.012738853503184714\n",
            "Epoch 1, Train loss 5.859259132229154, Test loss 5.859348421643494, Train Accuracy 0.0038363171355498722, Test Accuracy 0.01910828025477707\n",
            "Epoch 2, Train loss 5.859248351562968, Test loss 5.859335516668429, Train Accuracy 0.0038363171355498722, Test Accuracy 0.01910828025477707\n",
            "Epoch 3, Train loss 5.859237897731459, Test loss 5.859327641262371, Train Accuracy 0.0038363171355498722, Test Accuracy 0.01910828025477707\n",
            "Epoch 4, Train loss 5.859226314003205, Test loss 5.859316725639781, Train Accuracy 0.0038363171355498722, Test Accuracy 0.01910828025477707\n",
            "Epoch 5, Train loss 5.859217657762415, Test loss 5.859307869224791, Train Accuracy 0.0038363171355498722, Test Accuracy 0.01910828025477707\n",
            "Epoch 6, Train loss 5.859206458796626, Test loss 5.859301500259691, Train Accuracy 0.0038363171355498722, Test Accuracy 0.01910828025477707\n",
            "Epoch 7, Train loss 5.859197250717436, Test loss 5.859290472261465, Train Accuracy 0.0038363171355498722, Test Accuracy 0.01910828025477707\n",
            "Epoch 8, Train loss 5.859183141947402, Test loss 5.859281646218269, Train Accuracy 0.0038363171355498722, Test Accuracy 0.01910828025477707\n",
            "Epoch 9, Train loss 5.859174275337278, Test loss 5.859275869503143, Train Accuracy 0.0025575447570332483, Test Accuracy 0.012738853503184714\n"
          ]
        }
      ]
    },
    {
      "cell_type": "code",
      "source": [
        "plt.plot(range(20),train_loss_history,'-',linewidth=3,label='Train error')\n",
        "plt.plot(range(20),test_loss_history,'-',linewidth=3,label='Test error')\n",
        "plt.xlabel('epoch')\n",
        "plt.ylabel('loss')\n",
        "plt.grid(True)\n",
        "plt.legend()"
      ],
      "metadata": {
        "colab": {
          "base_uri": "https://localhost:8080/",
          "height": 308
        },
        "id": "cRg0L0jfFQde",
        "outputId": "dac64d09-bf3b-496e-d5c4-f68a306a1daa"
      },
      "execution_count": 40,
      "outputs": [
        {
          "output_type": "execute_result",
          "data": {
            "text/plain": [
              "<matplotlib.legend.Legend at 0x7f1c62af1350>"
            ]
          },
          "metadata": {},
          "execution_count": 40
        },
        {
          "output_type": "display_data",
          "data": {
            "image/png": "[encoded data removed]",
            "text/plain": [
              "<Figure size 432x288 with 1 Axes>"
            ]
          },
          "metadata": {
            "needs_background": "light"
          }
        }
      ]
    },
    {
      "cell_type": "code",
      "source": [
        " print(\"Accuracy: \",(torch.eq(torch.max(predicted_output, 1)\n",
        " [1],labels).sum()/len(labels)*100).data.cpu().numpy())\n"
      ],
      "metadata": {
        "colab": {
          "base_uri": "https://localhost:8080/"
        },
        "id": "nIukTd59HvhI",
        "outputId": "164594f9-e0ad-47dd-ced9-3445e0a70bad"
      },
      "execution_count": 41,
      "outputs": [
        {
          "output_type": "stream",
          "name": "stdout",
          "text": [
            "Accuracy:  18.75\n"
          ]
        }
      ]
    },
    {
      "cell_type": "code",
      "source": [
        "plt.plot(range(20),train_acc_history,'-',linewidth=3,label='Train accuracy')\n",
        "plt.plot(range(20),test_acc_history,'-',linewidth=3,label='Test accuracy')\n",
        "plt.xlabel('epoch')\n",
        "plt.ylabel('Accuracy')\n",
        "plt.grid(True)\n",
        "plt.legend()"
      ],
      "metadata": {
        "colab": {
          "base_uri": "https://localhost:8080/",
          "height": 297
        },
        "id": "9An3IgQdIiWk",
        "outputId": "d10aa06e-2762-41f3-c5fe-42332bec8147"
      },
      "execution_count": 42,
      "outputs": [
        {
          "output_type": "execute_result",
          "data": {
            "text/plain": [
              "<matplotlib.legend.Legend at 0x7f1c62b2df90>"
            ]
          },
          "metadata": {},
          "execution_count": 42
        },
        {
          "output_type": "display_data",
          "data": {
            "image/png": "[encoded data removed]",
            "text/plain": [
              "<Figure size 432x288 with 1 Axes>"
            ]
          },
          "metadata": {
            "needs_background": "light"
          }
        }
      ]
    },
    {
      "cell_type": "code",
      "source": [
        ""
      ],
      "metadata": {
        "id": "wpu8qDoCI1VB"
      },
      "execution_count": null,
      "outputs": []
    }
  ]
}